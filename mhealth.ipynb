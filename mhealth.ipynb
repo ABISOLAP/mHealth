{
 "cells": [
  {
   "cell_type": "markdown",
   "metadata": {},
   "source": [
    "# DATA ANALYSIS FOR DIFFERENT USAGE OF MOBILE HEALTH APPS"
   ]
  },
  {
   "cell_type": "markdown",
   "metadata": {},
   "source": [
    "## Importing Libraries"
   ]
  },
  {
   "cell_type": "code",
   "execution_count": 4,
   "metadata": {},
   "outputs": [],
   "source": [
    "import pandas as pd\n",
    "from pandas import Series, DataFrame\n",
    "import numpy as np\n",
    "import matplotlib.pyplot as plt\n",
    "import seaborn as sns\n",
    "sns.set(style='white',color_codes=True)\n",
    "%matplotlib inline\n",
    "import matplotlib.collections as mcol\n",
    "from matplotlib.legend_handler import HandlerLineCollection, HandlerTuple\n",
    "from matplotlib.lines import Line2D\n"
   ]
  },
  {
   "cell_type": "markdown",
   "metadata": {},
   "source": [
    "## Reading the Dataset"
   ]
  },
  {
   "cell_type": "code",
   "execution_count": 5,
   "metadata": {},
   "outputs": [
    {
     "data": {
      "text/html": [
       "<div>\n",
       "<style scoped>\n",
       "    .dataframe tbody tr th:only-of-type {\n",
       "        vertical-align: middle;\n",
       "    }\n",
       "\n",
       "    .dataframe tbody tr th {\n",
       "        vertical-align: top;\n",
       "    }\n",
       "\n",
       "    .dataframe thead th {\n",
       "        text-align: right;\n",
       "    }\n",
       "</style>\n",
       "<table border=\"1\" class=\"dataframe\">\n",
       "  <thead>\n",
       "    <tr style=\"text-align: right;\">\n",
       "      <th></th>\n",
       "      <th>MID</th>\n",
       "      <th>DAY</th>\n",
       "      <th>SEX</th>\n",
       "      <th>AGE</th>\n",
       "      <th>GEN</th>\n",
       "      <th>PRE</th>\n",
       "      <th>ARE</th>\n",
       "      <th>JOB</th>\n",
       "      <th>MAR</th>\n",
       "      <th>CHI</th>\n",
       "      <th>...</th>\n",
       "      <th>q4s7</th>\n",
       "      <th>q4s8</th>\n",
       "      <th>q4s9</th>\n",
       "      <th>q4s10</th>\n",
       "      <th>q4s11</th>\n",
       "      <th>q4s12</th>\n",
       "      <th>q4s13</th>\n",
       "      <th>q4s14</th>\n",
       "      <th>q4s15</th>\n",
       "      <th>q5</th>\n",
       "    </tr>\n",
       "  </thead>\n",
       "  <tbody>\n",
       "    <tr>\n",
       "      <td>0</td>\n",
       "      <td>NaN</td>\n",
       "      <td>NaN</td>\n",
       "      <td>NaN</td>\n",
       "      <td>NaN</td>\n",
       "      <td>NaN</td>\n",
       "      <td>NaN</td>\n",
       "      <td>NaN</td>\n",
       "      <td>NaN</td>\n",
       "      <td>NaN</td>\n",
       "      <td>NaN</td>\n",
       "      <td>...</td>\n",
       "      <td>NaN</td>\n",
       "      <td>NaN</td>\n",
       "      <td>NaN</td>\n",
       "      <td>NaN</td>\n",
       "      <td>NaN</td>\n",
       "      <td>NaN</td>\n",
       "      <td>NaN</td>\n",
       "      <td>NaN</td>\n",
       "      <td>NaN</td>\n",
       "      <td>NaN</td>\n",
       "    </tr>\n",
       "    <tr>\n",
       "      <td>1</td>\n",
       "      <td>1.000003e+09</td>\n",
       "      <td>6/8/2022 20:58</td>\n",
       "      <td>2.0</td>\n",
       "      <td>56.0</td>\n",
       "      <td>6.0</td>\n",
       "      <td>14.0</td>\n",
       "      <td>3.0</td>\n",
       "      <td>8.0</td>\n",
       "      <td>2.0</td>\n",
       "      <td>1.0</td>\n",
       "      <td>...</td>\n",
       "      <td>4.0</td>\n",
       "      <td>3.0</td>\n",
       "      <td>3.0</td>\n",
       "      <td>3.0</td>\n",
       "      <td>4.0</td>\n",
       "      <td>3.0</td>\n",
       "      <td>3.0</td>\n",
       "      <td>3.0</td>\n",
       "      <td>3.0</td>\n",
       "      <td>3.0</td>\n",
       "    </tr>\n",
       "    <tr>\n",
       "      <td>2</td>\n",
       "      <td>NaN</td>\n",
       "      <td>NaN</td>\n",
       "      <td>NaN</td>\n",
       "      <td>NaN</td>\n",
       "      <td>NaN</td>\n",
       "      <td>NaN</td>\n",
       "      <td>NaN</td>\n",
       "      <td>NaN</td>\n",
       "      <td>NaN</td>\n",
       "      <td>NaN</td>\n",
       "      <td>...</td>\n",
       "      <td>NaN</td>\n",
       "      <td>NaN</td>\n",
       "      <td>NaN</td>\n",
       "      <td>NaN</td>\n",
       "      <td>NaN</td>\n",
       "      <td>NaN</td>\n",
       "      <td>NaN</td>\n",
       "      <td>NaN</td>\n",
       "      <td>NaN</td>\n",
       "      <td>NaN</td>\n",
       "    </tr>\n",
       "    <tr>\n",
       "      <td>3</td>\n",
       "      <td>1.000004e+09</td>\n",
       "      <td>6/8/2022 22:17</td>\n",
       "      <td>1.0</td>\n",
       "      <td>64.0</td>\n",
       "      <td>7.0</td>\n",
       "      <td>13.0</td>\n",
       "      <td>3.0</td>\n",
       "      <td>6.0</td>\n",
       "      <td>2.0</td>\n",
       "      <td>1.0</td>\n",
       "      <td>...</td>\n",
       "      <td>3.0</td>\n",
       "      <td>3.0</td>\n",
       "      <td>3.0</td>\n",
       "      <td>3.0</td>\n",
       "      <td>3.0</td>\n",
       "      <td>3.0</td>\n",
       "      <td>3.0</td>\n",
       "      <td>3.0</td>\n",
       "      <td>3.0</td>\n",
       "      <td>3.0</td>\n",
       "    </tr>\n",
       "    <tr>\n",
       "      <td>4</td>\n",
       "      <td>NaN</td>\n",
       "      <td>NaN</td>\n",
       "      <td>NaN</td>\n",
       "      <td>NaN</td>\n",
       "      <td>NaN</td>\n",
       "      <td>NaN</td>\n",
       "      <td>NaN</td>\n",
       "      <td>NaN</td>\n",
       "      <td>NaN</td>\n",
       "      <td>NaN</td>\n",
       "      <td>...</td>\n",
       "      <td>NaN</td>\n",
       "      <td>NaN</td>\n",
       "      <td>NaN</td>\n",
       "      <td>NaN</td>\n",
       "      <td>NaN</td>\n",
       "      <td>NaN</td>\n",
       "      <td>NaN</td>\n",
       "      <td>NaN</td>\n",
       "      <td>NaN</td>\n",
       "      <td>NaN</td>\n",
       "    </tr>\n",
       "    <tr>\n",
       "      <td>...</td>\n",
       "      <td>...</td>\n",
       "      <td>...</td>\n",
       "      <td>...</td>\n",
       "      <td>...</td>\n",
       "      <td>...</td>\n",
       "      <td>...</td>\n",
       "      <td>...</td>\n",
       "      <td>...</td>\n",
       "      <td>...</td>\n",
       "      <td>...</td>\n",
       "      <td>...</td>\n",
       "      <td>...</td>\n",
       "      <td>...</td>\n",
       "      <td>...</td>\n",
       "      <td>...</td>\n",
       "      <td>...</td>\n",
       "      <td>...</td>\n",
       "      <td>...</td>\n",
       "      <td>...</td>\n",
       "      <td>...</td>\n",
       "      <td>...</td>\n",
       "    </tr>\n",
       "    <tr>\n",
       "      <td>1677</td>\n",
       "      <td>1.010023e+09</td>\n",
       "      <td>6/8/2022 19:31</td>\n",
       "      <td>2.0</td>\n",
       "      <td>42.0</td>\n",
       "      <td>5.0</td>\n",
       "      <td>23.0</td>\n",
       "      <td>4.0</td>\n",
       "      <td>9.0</td>\n",
       "      <td>1.0</td>\n",
       "      <td>2.0</td>\n",
       "      <td>...</td>\n",
       "      <td>5.0</td>\n",
       "      <td>5.0</td>\n",
       "      <td>5.0</td>\n",
       "      <td>5.0</td>\n",
       "      <td>2.0</td>\n",
       "      <td>5.0</td>\n",
       "      <td>5.0</td>\n",
       "      <td>5.0</td>\n",
       "      <td>5.0</td>\n",
       "      <td>3.0</td>\n",
       "    </tr>\n",
       "    <tr>\n",
       "      <td>1678</td>\n",
       "      <td>NaN</td>\n",
       "      <td>NaN</td>\n",
       "      <td>NaN</td>\n",
       "      <td>NaN</td>\n",
       "      <td>NaN</td>\n",
       "      <td>NaN</td>\n",
       "      <td>NaN</td>\n",
       "      <td>NaN</td>\n",
       "      <td>NaN</td>\n",
       "      <td>NaN</td>\n",
       "      <td>...</td>\n",
       "      <td>NaN</td>\n",
       "      <td>NaN</td>\n",
       "      <td>NaN</td>\n",
       "      <td>NaN</td>\n",
       "      <td>NaN</td>\n",
       "      <td>NaN</td>\n",
       "      <td>NaN</td>\n",
       "      <td>NaN</td>\n",
       "      <td>NaN</td>\n",
       "      <td>NaN</td>\n",
       "    </tr>\n",
       "    <tr>\n",
       "      <td>1679</td>\n",
       "      <td>1.010023e+09</td>\n",
       "      <td>6/8/2022 19:20</td>\n",
       "      <td>2.0</td>\n",
       "      <td>48.0</td>\n",
       "      <td>5.0</td>\n",
       "      <td>3.0</td>\n",
       "      <td>2.0</td>\n",
       "      <td>3.0</td>\n",
       "      <td>2.0</td>\n",
       "      <td>1.0</td>\n",
       "      <td>...</td>\n",
       "      <td>2.0</td>\n",
       "      <td>2.0</td>\n",
       "      <td>2.0</td>\n",
       "      <td>2.0</td>\n",
       "      <td>2.0</td>\n",
       "      <td>3.0</td>\n",
       "      <td>2.0</td>\n",
       "      <td>2.0</td>\n",
       "      <td>3.0</td>\n",
       "      <td>3.0</td>\n",
       "    </tr>\n",
       "    <tr>\n",
       "      <td>1680</td>\n",
       "      <td>NaN</td>\n",
       "      <td>NaN</td>\n",
       "      <td>NaN</td>\n",
       "      <td>NaN</td>\n",
       "      <td>NaN</td>\n",
       "      <td>NaN</td>\n",
       "      <td>NaN</td>\n",
       "      <td>NaN</td>\n",
       "      <td>NaN</td>\n",
       "      <td>NaN</td>\n",
       "      <td>...</td>\n",
       "      <td>NaN</td>\n",
       "      <td>NaN</td>\n",
       "      <td>NaN</td>\n",
       "      <td>NaN</td>\n",
       "      <td>NaN</td>\n",
       "      <td>NaN</td>\n",
       "      <td>NaN</td>\n",
       "      <td>NaN</td>\n",
       "      <td>NaN</td>\n",
       "      <td>NaN</td>\n",
       "    </tr>\n",
       "    <tr>\n",
       "      <td>1681</td>\n",
       "      <td>1.010036e+09</td>\n",
       "      <td>6/8/2022 19:13</td>\n",
       "      <td>1.0</td>\n",
       "      <td>47.0</td>\n",
       "      <td>5.0</td>\n",
       "      <td>42.0</td>\n",
       "      <td>8.0</td>\n",
       "      <td>4.0</td>\n",
       "      <td>2.0</td>\n",
       "      <td>1.0</td>\n",
       "      <td>...</td>\n",
       "      <td>2.0</td>\n",
       "      <td>3.0</td>\n",
       "      <td>3.0</td>\n",
       "      <td>2.0</td>\n",
       "      <td>1.0</td>\n",
       "      <td>3.0</td>\n",
       "      <td>3.0</td>\n",
       "      <td>2.0</td>\n",
       "      <td>2.0</td>\n",
       "      <td>3.0</td>\n",
       "    </tr>\n",
       "  </tbody>\n",
       "</table>\n",
       "<p>1682 rows × 33 columns</p>\n",
       "</div>"
      ],
      "text/plain": [
       "               MID             DAY  SEX   AGE  GEN   PRE  ARE  JOB  MAR  CHI  \\\n",
       "0              NaN             NaN  NaN   NaN  NaN   NaN  NaN  NaN  NaN  NaN   \n",
       "1     1.000003e+09  6/8/2022 20:58  2.0  56.0  6.0  14.0  3.0  8.0  2.0  1.0   \n",
       "2              NaN             NaN  NaN   NaN  NaN   NaN  NaN  NaN  NaN  NaN   \n",
       "3     1.000004e+09  6/8/2022 22:17  1.0  64.0  7.0  13.0  3.0  6.0  2.0  1.0   \n",
       "4              NaN             NaN  NaN   NaN  NaN   NaN  NaN  NaN  NaN  NaN   \n",
       "...            ...             ...  ...   ...  ...   ...  ...  ...  ...  ...   \n",
       "1677  1.010023e+09  6/8/2022 19:31  2.0  42.0  5.0  23.0  4.0  9.0  1.0  2.0   \n",
       "1678           NaN             NaN  NaN   NaN  NaN   NaN  NaN  NaN  NaN  NaN   \n",
       "1679  1.010023e+09  6/8/2022 19:20  2.0  48.0  5.0   3.0  2.0  3.0  2.0  1.0   \n",
       "1680           NaN             NaN  NaN   NaN  NaN   NaN  NaN  NaN  NaN  NaN   \n",
       "1681  1.010036e+09  6/8/2022 19:13  1.0  47.0  5.0  42.0  8.0  4.0  2.0  1.0   \n",
       "\n",
       "      ... q4s7  q4s8  q4s9  q4s10  q4s11  q4s12 q4s13  q4s14  q4s15   q5  \n",
       "0     ...  NaN   NaN   NaN    NaN    NaN    NaN   NaN    NaN    NaN  NaN  \n",
       "1     ...  4.0   3.0   3.0    3.0    4.0    3.0   3.0    3.0    3.0  3.0  \n",
       "2     ...  NaN   NaN   NaN    NaN    NaN    NaN   NaN    NaN    NaN  NaN  \n",
       "3     ...  3.0   3.0   3.0    3.0    3.0    3.0   3.0    3.0    3.0  3.0  \n",
       "4     ...  NaN   NaN   NaN    NaN    NaN    NaN   NaN    NaN    NaN  NaN  \n",
       "...   ...  ...   ...   ...    ...    ...    ...   ...    ...    ...  ...  \n",
       "1677  ...  5.0   5.0   5.0    5.0    2.0    5.0   5.0    5.0    5.0  3.0  \n",
       "1678  ...  NaN   NaN   NaN    NaN    NaN    NaN   NaN    NaN    NaN  NaN  \n",
       "1679  ...  2.0   2.0   2.0    2.0    2.0    3.0   2.0    2.0    3.0  3.0  \n",
       "1680  ...  NaN   NaN   NaN    NaN    NaN    NaN   NaN    NaN    NaN  NaN  \n",
       "1681  ...  2.0   3.0   3.0    2.0    1.0    3.0   3.0    2.0    2.0  3.0  \n",
       "\n",
       "[1682 rows x 33 columns]"
      ]
     },
     "execution_count": 5,
     "metadata": {},
     "output_type": "execute_result"
    }
   ],
   "source": [
    "#Read in the dataset\n",
    "df1 = pd.read_csv('C:/datasets/mHealth.csv', encoding = 'latin1')\n",
    "#Latin 1 encoding is to interpret special character, to read in the file without producing error\n",
    "#print(df1.max())\n",
    "df1\n"
   ]
  },
  {
   "cell_type": "code",
   "execution_count": 6,
   "metadata": {},
   "outputs": [
    {
     "name": "stdout",
     "output_type": "stream",
     "text": [
      "MID      841\n",
      "DAY      841\n",
      "SEX      841\n",
      "AGE      841\n",
      "GEN      841\n",
      "PRE      841\n",
      "ARE      841\n",
      "JOB      841\n",
      "MAR      841\n",
      "CHI      841\n",
      "q1t1     413\n",
      "q2c1     841\n",
      "q2c2     841\n",
      "q2c3     841\n",
      "q2c4     841\n",
      "q3       632\n",
      "q4s1     632\n",
      "q4s2     632\n",
      "q4s3     632\n",
      "q4s4     632\n",
      "q4s5     632\n",
      "q4s6     632\n",
      "q4s7     632\n",
      "q4s8     632\n",
      "q4s9     632\n",
      "q4s10    632\n",
      "q4s11    632\n",
      "q4s12    632\n",
      "q4s13    632\n",
      "q4s14    632\n",
      "q4s15    632\n",
      "q5       632\n",
      "dtype: int64\n"
     ]
    }
   ],
   "source": [
    "df2 = df1.drop(\"q3t6\", axis=1)#Delete \"q3t6\" column from the dataframe\n",
    "print (df2.count())#Returns the number of non null values in each data frame column"
   ]
  },
  {
   "cell_type": "code",
   "execution_count": 7,
   "metadata": {},
   "outputs": [
    {
     "data": {
      "text/html": [
       "<div>\n",
       "<style scoped>\n",
       "    .dataframe tbody tr th:only-of-type {\n",
       "        vertical-align: middle;\n",
       "    }\n",
       "\n",
       "    .dataframe tbody tr th {\n",
       "        vertical-align: top;\n",
       "    }\n",
       "\n",
       "    .dataframe thead th {\n",
       "        text-align: right;\n",
       "    }\n",
       "</style>\n",
       "<table border=\"1\" class=\"dataframe\">\n",
       "  <thead>\n",
       "    <tr style=\"text-align: right;\">\n",
       "      <th></th>\n",
       "      <th>MID</th>\n",
       "      <th>DAY</th>\n",
       "      <th>SEX</th>\n",
       "      <th>AGE</th>\n",
       "      <th>GEN</th>\n",
       "      <th>PRE</th>\n",
       "      <th>ARE</th>\n",
       "      <th>JOB</th>\n",
       "      <th>MAR</th>\n",
       "      <th>CHI</th>\n",
       "      <th>...</th>\n",
       "      <th>q4s7</th>\n",
       "      <th>q4s8</th>\n",
       "      <th>q4s9</th>\n",
       "      <th>q4s10</th>\n",
       "      <th>q4s11</th>\n",
       "      <th>q4s12</th>\n",
       "      <th>q4s13</th>\n",
       "      <th>q4s14</th>\n",
       "      <th>q4s15</th>\n",
       "      <th>q5</th>\n",
       "    </tr>\n",
       "  </thead>\n",
       "  <tbody>\n",
       "    <tr>\n",
       "      <td>0</td>\n",
       "      <td>NaN</td>\n",
       "      <td>NaN</td>\n",
       "      <td>NaN</td>\n",
       "      <td>NaN</td>\n",
       "      <td>NaN</td>\n",
       "      <td>NaN</td>\n",
       "      <td>NaN</td>\n",
       "      <td>NaN</td>\n",
       "      <td>NaN</td>\n",
       "      <td>NaN</td>\n",
       "      <td>...</td>\n",
       "      <td>NaN</td>\n",
       "      <td>NaN</td>\n",
       "      <td>NaN</td>\n",
       "      <td>NaN</td>\n",
       "      <td>NaN</td>\n",
       "      <td>NaN</td>\n",
       "      <td>NaN</td>\n",
       "      <td>NaN</td>\n",
       "      <td>NaN</td>\n",
       "      <td>NaN</td>\n",
       "    </tr>\n",
       "    <tr>\n",
       "      <td>1</td>\n",
       "      <td>1.000003e+09</td>\n",
       "      <td>6/8/2022 20:58</td>\n",
       "      <td>2.0</td>\n",
       "      <td>56.0</td>\n",
       "      <td>6.0</td>\n",
       "      <td>14.0</td>\n",
       "      <td>3.0</td>\n",
       "      <td>8.0</td>\n",
       "      <td>2.0</td>\n",
       "      <td>1.0</td>\n",
       "      <td>...</td>\n",
       "      <td>4.0</td>\n",
       "      <td>3.0</td>\n",
       "      <td>3.0</td>\n",
       "      <td>3.0</td>\n",
       "      <td>4.0</td>\n",
       "      <td>3.0</td>\n",
       "      <td>3.0</td>\n",
       "      <td>3.0</td>\n",
       "      <td>3.0</td>\n",
       "      <td>3.0</td>\n",
       "    </tr>\n",
       "    <tr>\n",
       "      <td>2</td>\n",
       "      <td>NaN</td>\n",
       "      <td>NaN</td>\n",
       "      <td>NaN</td>\n",
       "      <td>NaN</td>\n",
       "      <td>NaN</td>\n",
       "      <td>NaN</td>\n",
       "      <td>NaN</td>\n",
       "      <td>NaN</td>\n",
       "      <td>NaN</td>\n",
       "      <td>NaN</td>\n",
       "      <td>...</td>\n",
       "      <td>NaN</td>\n",
       "      <td>NaN</td>\n",
       "      <td>NaN</td>\n",
       "      <td>NaN</td>\n",
       "      <td>NaN</td>\n",
       "      <td>NaN</td>\n",
       "      <td>NaN</td>\n",
       "      <td>NaN</td>\n",
       "      <td>NaN</td>\n",
       "      <td>NaN</td>\n",
       "    </tr>\n",
       "    <tr>\n",
       "      <td>3</td>\n",
       "      <td>1.000004e+09</td>\n",
       "      <td>6/8/2022 22:17</td>\n",
       "      <td>1.0</td>\n",
       "      <td>64.0</td>\n",
       "      <td>7.0</td>\n",
       "      <td>13.0</td>\n",
       "      <td>3.0</td>\n",
       "      <td>6.0</td>\n",
       "      <td>2.0</td>\n",
       "      <td>1.0</td>\n",
       "      <td>...</td>\n",
       "      <td>3.0</td>\n",
       "      <td>3.0</td>\n",
       "      <td>3.0</td>\n",
       "      <td>3.0</td>\n",
       "      <td>3.0</td>\n",
       "      <td>3.0</td>\n",
       "      <td>3.0</td>\n",
       "      <td>3.0</td>\n",
       "      <td>3.0</td>\n",
       "      <td>3.0</td>\n",
       "    </tr>\n",
       "    <tr>\n",
       "      <td>4</td>\n",
       "      <td>NaN</td>\n",
       "      <td>NaN</td>\n",
       "      <td>NaN</td>\n",
       "      <td>NaN</td>\n",
       "      <td>NaN</td>\n",
       "      <td>NaN</td>\n",
       "      <td>NaN</td>\n",
       "      <td>NaN</td>\n",
       "      <td>NaN</td>\n",
       "      <td>NaN</td>\n",
       "      <td>...</td>\n",
       "      <td>NaN</td>\n",
       "      <td>NaN</td>\n",
       "      <td>NaN</td>\n",
       "      <td>NaN</td>\n",
       "      <td>NaN</td>\n",
       "      <td>NaN</td>\n",
       "      <td>NaN</td>\n",
       "      <td>NaN</td>\n",
       "      <td>NaN</td>\n",
       "      <td>NaN</td>\n",
       "    </tr>\n",
       "  </tbody>\n",
       "</table>\n",
       "<p>5 rows × 32 columns</p>\n",
       "</div>"
      ],
      "text/plain": [
       "            MID             DAY  SEX   AGE  GEN   PRE  ARE  JOB  MAR  CHI  \\\n",
       "0           NaN             NaN  NaN   NaN  NaN   NaN  NaN  NaN  NaN  NaN   \n",
       "1  1.000003e+09  6/8/2022 20:58  2.0  56.0  6.0  14.0  3.0  8.0  2.0  1.0   \n",
       "2           NaN             NaN  NaN   NaN  NaN   NaN  NaN  NaN  NaN  NaN   \n",
       "3  1.000004e+09  6/8/2022 22:17  1.0  64.0  7.0  13.0  3.0  6.0  2.0  1.0   \n",
       "4           NaN             NaN  NaN   NaN  NaN   NaN  NaN  NaN  NaN  NaN   \n",
       "\n",
       "   ... q4s7  q4s8  q4s9  q4s10  q4s11  q4s12  q4s13  q4s14  q4s15   q5  \n",
       "0  ...  NaN   NaN   NaN    NaN    NaN    NaN    NaN    NaN    NaN  NaN  \n",
       "1  ...  4.0   3.0   3.0    3.0    4.0    3.0    3.0    3.0    3.0  3.0  \n",
       "2  ...  NaN   NaN   NaN    NaN    NaN    NaN    NaN    NaN    NaN  NaN  \n",
       "3  ...  3.0   3.0   3.0    3.0    3.0    3.0    3.0    3.0    3.0  3.0  \n",
       "4  ...  NaN   NaN   NaN    NaN    NaN    NaN    NaN    NaN    NaN  NaN  \n",
       "\n",
       "[5 rows x 32 columns]"
      ]
     },
     "execution_count": 7,
     "metadata": {},
     "output_type": "execute_result"
    }
   ],
   "source": [
    "df2.head() "
   ]
  },
  {
   "cell_type": "markdown",
   "metadata": {},
   "source": [
    "## Data Cleaning"
   ]
  },
  {
   "cell_type": "code",
   "execution_count": 8,
   "metadata": {},
   "outputs": [
    {
     "name": "stdout",
     "output_type": "stream",
     "text": [
      "<class 'pandas.core.frame.DataFrame'>\n",
      "Int64Index: 842 entries, 0 to 1681\n",
      "Data columns (total 32 columns):\n",
      "MID      841 non-null float64\n",
      "DAY      841 non-null object\n",
      "SEX      841 non-null float64\n",
      "AGE      841 non-null float64\n",
      "GEN      841 non-null float64\n",
      "PRE      841 non-null float64\n",
      "ARE      841 non-null float64\n",
      "JOB      841 non-null float64\n",
      "MAR      841 non-null float64\n",
      "CHI      841 non-null float64\n",
      "q1t1     413 non-null object\n",
      "q2c1     841 non-null float64\n",
      "q2c2     841 non-null float64\n",
      "q2c3     841 non-null float64\n",
      "q2c4     841 non-null float64\n",
      "q3       632 non-null float64\n",
      "q4s1     632 non-null float64\n",
      "q4s2     632 non-null float64\n",
      "q4s3     632 non-null float64\n",
      "q4s4     632 non-null float64\n",
      "q4s5     632 non-null float64\n",
      "q4s6     632 non-null float64\n",
      "q4s7     632 non-null float64\n",
      "q4s8     632 non-null float64\n",
      "q4s9     632 non-null float64\n",
      "q4s10    632 non-null float64\n",
      "q4s11    632 non-null float64\n",
      "q4s12    632 non-null float64\n",
      "q4s13    632 non-null float64\n",
      "q4s14    632 non-null float64\n",
      "q4s15    632 non-null float64\n",
      "q5       632 non-null float64\n",
      "dtypes: float64(30), object(2)\n",
      "memory usage: 217.1+ KB\n"
     ]
    }
   ],
   "source": [
    "#To drop duplicate value\n",
    "df2 = df2.drop_duplicates()\n",
    "df2.info()"
   ]
  },
  {
   "cell_type": "code",
   "execution_count": 9,
   "metadata": {},
   "outputs": [],
   "source": [
    "# To drop all rows that are completely empty\n",
    "df= df2.dropna()\n",
    "#df=sort_values(by='DAY',inplace=True)\n"
   ]
  },
  {
   "cell_type": "code",
   "execution_count": 10,
   "metadata": {},
   "outputs": [],
   "source": [
    "#df.dtypes"
   ]
  },
  {
   "cell_type": "code",
   "execution_count": 11,
   "metadata": {},
   "outputs": [
    {
     "name": "stdout",
     "output_type": "stream",
     "text": [
      "<class 'pandas.core.frame.DataFrame'>\n",
      "Int64Index: 368 entries, 1 to 1681\n",
      "Data columns (total 32 columns):\n",
      "MID      368 non-null float64\n",
      "DAY      368 non-null object\n",
      "SEX      368 non-null float64\n",
      "AGE      368 non-null float64\n",
      "GEN      368 non-null float64\n",
      "PRE      368 non-null float64\n",
      "ARE      368 non-null float64\n",
      "JOB      368 non-null float64\n",
      "MAR      368 non-null float64\n",
      "CHI      368 non-null float64\n",
      "q1t1     368 non-null object\n",
      "q2c1     368 non-null float64\n",
      "q2c2     368 non-null float64\n",
      "q2c3     368 non-null float64\n",
      "q2c4     368 non-null float64\n",
      "q3       368 non-null float64\n",
      "q4s1     368 non-null float64\n",
      "q4s2     368 non-null float64\n",
      "q4s3     368 non-null float64\n",
      "q4s4     368 non-null float64\n",
      "q4s5     368 non-null float64\n",
      "q4s6     368 non-null float64\n",
      "q4s7     368 non-null float64\n",
      "q4s8     368 non-null float64\n",
      "q4s9     368 non-null float64\n",
      "q4s10    368 non-null float64\n",
      "q4s11    368 non-null float64\n",
      "q4s12    368 non-null float64\n",
      "q4s13    368 non-null float64\n",
      "q4s14    368 non-null float64\n",
      "q4s15    368 non-null float64\n",
      "q5       368 non-null float64\n",
      "dtypes: float64(30), object(2)\n",
      "memory usage: 94.9+ KB\n"
     ]
    }
   ],
   "source": [
    "df.info()\n"
   ]
  },
  {
   "cell_type": "code",
   "execution_count": 12,
   "metadata": {},
   "outputs": [],
   "source": [
    "#df.corr()#It shows the correlation of each column"
   ]
  },
  {
   "cell_type": "code",
   "execution_count": 13,
   "metadata": {},
   "outputs": [
    {
     "data": {
      "text/html": [
       "<div>\n",
       "<style scoped>\n",
       "    .dataframe tbody tr th:only-of-type {\n",
       "        vertical-align: middle;\n",
       "    }\n",
       "\n",
       "    .dataframe tbody tr th {\n",
       "        vertical-align: top;\n",
       "    }\n",
       "\n",
       "    .dataframe thead th {\n",
       "        text-align: right;\n",
       "    }\n",
       "</style>\n",
       "<table border=\"1\" class=\"dataframe\">\n",
       "  <thead>\n",
       "    <tr style=\"text-align: right;\">\n",
       "      <th></th>\n",
       "      <th>DAY</th>\n",
       "      <th>q1t1</th>\n",
       "    </tr>\n",
       "  </thead>\n",
       "  <tbody>\n",
       "    <tr>\n",
       "      <td>count</td>\n",
       "      <td>368</td>\n",
       "      <td>368</td>\n",
       "    </tr>\n",
       "    <tr>\n",
       "      <td>unique</td>\n",
       "      <td>155</td>\n",
       "      <td>139</td>\n",
       "    </tr>\n",
       "    <tr>\n",
       "      <td>top</td>\n",
       "      <td>6/8/2022 19:02</td>\n",
       "      <td>Healthcare</td>\n",
       "    </tr>\n",
       "    <tr>\n",
       "      <td>freq</td>\n",
       "      <td>8</td>\n",
       "      <td>29</td>\n",
       "    </tr>\n",
       "  </tbody>\n",
       "</table>\n",
       "</div>"
      ],
      "text/plain": [
       "                   DAY        q1t1\n",
       "count              368         368\n",
       "unique             155         139\n",
       "top     6/8/2022 19:02  Healthcare\n",
       "freq                 8          29"
      ]
     },
     "execution_count": 13,
     "metadata": {},
     "output_type": "execute_result"
    }
   ],
   "source": [
    "#Analyzing String Pattern Only\n",
    "df.describe(include=[np.object])"
   ]
  },
  {
   "cell_type": "code",
   "execution_count": 14,
   "metadata": {},
   "outputs": [],
   "source": [
    "#print (df.max())#returns maximum of each column"
   ]
  },
  {
   "cell_type": "code",
   "execution_count": 15,
   "metadata": {},
   "outputs": [
    {
     "data": {
      "text/html": [
       "<div>\n",
       "<style scoped>\n",
       "    .dataframe tbody tr th:only-of-type {\n",
       "        vertical-align: middle;\n",
       "    }\n",
       "\n",
       "    .dataframe tbody tr th {\n",
       "        vertical-align: top;\n",
       "    }\n",
       "\n",
       "    .dataframe thead th {\n",
       "        text-align: right;\n",
       "    }\n",
       "</style>\n",
       "<table border=\"1\" class=\"dataframe\">\n",
       "  <thead>\n",
       "    <tr style=\"text-align: right;\">\n",
       "      <th></th>\n",
       "      <th>MID</th>\n",
       "      <th>SEX</th>\n",
       "      <th>AGE</th>\n",
       "      <th>GEN</th>\n",
       "      <th>PRE</th>\n",
       "      <th>ARE</th>\n",
       "      <th>JOB</th>\n",
       "      <th>MAR</th>\n",
       "      <th>CHI</th>\n",
       "      <th>q2c1</th>\n",
       "      <th>...</th>\n",
       "      <th>q4s7</th>\n",
       "      <th>q4s8</th>\n",
       "      <th>q4s9</th>\n",
       "      <th>q4s10</th>\n",
       "      <th>q4s11</th>\n",
       "      <th>q4s12</th>\n",
       "      <th>q4s13</th>\n",
       "      <th>q4s14</th>\n",
       "      <th>q4s15</th>\n",
       "      <th>q5</th>\n",
       "    </tr>\n",
       "  </thead>\n",
       "  <tbody>\n",
       "    <tr>\n",
       "      <td>count</td>\n",
       "      <td>3.680000e+02</td>\n",
       "      <td>368.000000</td>\n",
       "      <td>368.000000</td>\n",
       "      <td>368.000000</td>\n",
       "      <td>368.000000</td>\n",
       "      <td>368.000000</td>\n",
       "      <td>368.000000</td>\n",
       "      <td>368.000000</td>\n",
       "      <td>368.000000</td>\n",
       "      <td>368.000000</td>\n",
       "      <td>...</td>\n",
       "      <td>368.000000</td>\n",
       "      <td>368.000000</td>\n",
       "      <td>368.000000</td>\n",
       "      <td>368.000000</td>\n",
       "      <td>368.00000</td>\n",
       "      <td>368.000000</td>\n",
       "      <td>368.00000</td>\n",
       "      <td>368.000000</td>\n",
       "      <td>368.000000</td>\n",
       "      <td>368.000000</td>\n",
       "    </tr>\n",
       "    <tr>\n",
       "      <td>mean</td>\n",
       "      <td>1.005594e+09</td>\n",
       "      <td>1.546196</td>\n",
       "      <td>45.959239</td>\n",
       "      <td>5.105978</td>\n",
       "      <td>20.480978</td>\n",
       "      <td>4.165761</td>\n",
       "      <td>6.432065</td>\n",
       "      <td>1.611413</td>\n",
       "      <td>1.472826</td>\n",
       "      <td>0.573370</td>\n",
       "      <td>...</td>\n",
       "      <td>2.720109</td>\n",
       "      <td>2.554348</td>\n",
       "      <td>2.687500</td>\n",
       "      <td>2.711957</td>\n",
       "      <td>2.55163</td>\n",
       "      <td>2.750000</td>\n",
       "      <td>2.76087</td>\n",
       "      <td>2.521739</td>\n",
       "      <td>2.676630</td>\n",
       "      <td>2.720109</td>\n",
       "    </tr>\n",
       "    <tr>\n",
       "      <td>std</td>\n",
       "      <td>3.104661e+06</td>\n",
       "      <td>0.498539</td>\n",
       "      <td>13.681108</td>\n",
       "      <td>1.302760</td>\n",
       "      <td>11.127435</td>\n",
       "      <td>1.722498</td>\n",
       "      <td>2.836268</td>\n",
       "      <td>0.488093</td>\n",
       "      <td>0.499941</td>\n",
       "      <td>0.495261</td>\n",
       "      <td>...</td>\n",
       "      <td>0.916353</td>\n",
       "      <td>0.908502</td>\n",
       "      <td>0.856236</td>\n",
       "      <td>0.827766</td>\n",
       "      <td>0.88126</td>\n",
       "      <td>0.830285</td>\n",
       "      <td>0.84324</td>\n",
       "      <td>0.857450</td>\n",
       "      <td>0.883576</td>\n",
       "      <td>0.609129</td>\n",
       "    </tr>\n",
       "    <tr>\n",
       "      <td>min</td>\n",
       "      <td>1.000003e+09</td>\n",
       "      <td>1.000000</td>\n",
       "      <td>18.000000</td>\n",
       "      <td>2.000000</td>\n",
       "      <td>1.000000</td>\n",
       "      <td>1.000000</td>\n",
       "      <td>1.000000</td>\n",
       "      <td>1.000000</td>\n",
       "      <td>1.000000</td>\n",
       "      <td>0.000000</td>\n",
       "      <td>...</td>\n",
       "      <td>1.000000</td>\n",
       "      <td>1.000000</td>\n",
       "      <td>1.000000</td>\n",
       "      <td>1.000000</td>\n",
       "      <td>1.00000</td>\n",
       "      <td>1.000000</td>\n",
       "      <td>1.00000</td>\n",
       "      <td>1.000000</td>\n",
       "      <td>1.000000</td>\n",
       "      <td>1.000000</td>\n",
       "    </tr>\n",
       "    <tr>\n",
       "      <td>25%</td>\n",
       "      <td>1.003129e+09</td>\n",
       "      <td>1.000000</td>\n",
       "      <td>35.000000</td>\n",
       "      <td>4.000000</td>\n",
       "      <td>13.000000</td>\n",
       "      <td>3.000000</td>\n",
       "      <td>4.000000</td>\n",
       "      <td>1.000000</td>\n",
       "      <td>1.000000</td>\n",
       "      <td>0.000000</td>\n",
       "      <td>...</td>\n",
       "      <td>2.000000</td>\n",
       "      <td>2.000000</td>\n",
       "      <td>2.000000</td>\n",
       "      <td>2.000000</td>\n",
       "      <td>2.00000</td>\n",
       "      <td>2.000000</td>\n",
       "      <td>2.00000</td>\n",
       "      <td>2.000000</td>\n",
       "      <td>2.000000</td>\n",
       "      <td>3.000000</td>\n",
       "    </tr>\n",
       "    <tr>\n",
       "      <td>50%</td>\n",
       "      <td>1.005871e+09</td>\n",
       "      <td>2.000000</td>\n",
       "      <td>47.000000</td>\n",
       "      <td>5.000000</td>\n",
       "      <td>19.500000</td>\n",
       "      <td>4.000000</td>\n",
       "      <td>6.000000</td>\n",
       "      <td>2.000000</td>\n",
       "      <td>1.000000</td>\n",
       "      <td>1.000000</td>\n",
       "      <td>...</td>\n",
       "      <td>3.000000</td>\n",
       "      <td>2.000000</td>\n",
       "      <td>3.000000</td>\n",
       "      <td>3.000000</td>\n",
       "      <td>2.00000</td>\n",
       "      <td>3.000000</td>\n",
       "      <td>3.00000</td>\n",
       "      <td>2.000000</td>\n",
       "      <td>3.000000</td>\n",
       "      <td>3.000000</td>\n",
       "    </tr>\n",
       "    <tr>\n",
       "      <td>75%</td>\n",
       "      <td>1.008132e+09</td>\n",
       "      <td>2.000000</td>\n",
       "      <td>56.000000</td>\n",
       "      <td>6.000000</td>\n",
       "      <td>27.000000</td>\n",
       "      <td>5.000000</td>\n",
       "      <td>9.000000</td>\n",
       "      <td>2.000000</td>\n",
       "      <td>2.000000</td>\n",
       "      <td>1.000000</td>\n",
       "      <td>...</td>\n",
       "      <td>3.000000</td>\n",
       "      <td>3.000000</td>\n",
       "      <td>3.000000</td>\n",
       "      <td>3.000000</td>\n",
       "      <td>3.00000</td>\n",
       "      <td>3.000000</td>\n",
       "      <td>3.00000</td>\n",
       "      <td>3.000000</td>\n",
       "      <td>3.000000</td>\n",
       "      <td>3.000000</td>\n",
       "    </tr>\n",
       "    <tr>\n",
       "      <td>max</td>\n",
       "      <td>1.010036e+09</td>\n",
       "      <td>2.000000</td>\n",
       "      <td>79.000000</td>\n",
       "      <td>7.000000</td>\n",
       "      <td>47.000000</td>\n",
       "      <td>8.000000</td>\n",
       "      <td>11.000000</td>\n",
       "      <td>2.000000</td>\n",
       "      <td>2.000000</td>\n",
       "      <td>1.000000</td>\n",
       "      <td>...</td>\n",
       "      <td>5.000000</td>\n",
       "      <td>5.000000</td>\n",
       "      <td>5.000000</td>\n",
       "      <td>5.000000</td>\n",
       "      <td>5.00000</td>\n",
       "      <td>5.000000</td>\n",
       "      <td>5.00000</td>\n",
       "      <td>5.000000</td>\n",
       "      <td>5.000000</td>\n",
       "      <td>3.000000</td>\n",
       "    </tr>\n",
       "  </tbody>\n",
       "</table>\n",
       "<p>8 rows × 30 columns</p>\n",
       "</div>"
      ],
      "text/plain": [
       "                MID         SEX         AGE         GEN         PRE  \\\n",
       "count  3.680000e+02  368.000000  368.000000  368.000000  368.000000   \n",
       "mean   1.005594e+09    1.546196   45.959239    5.105978   20.480978   \n",
       "std    3.104661e+06    0.498539   13.681108    1.302760   11.127435   \n",
       "min    1.000003e+09    1.000000   18.000000    2.000000    1.000000   \n",
       "25%    1.003129e+09    1.000000   35.000000    4.000000   13.000000   \n",
       "50%    1.005871e+09    2.000000   47.000000    5.000000   19.500000   \n",
       "75%    1.008132e+09    2.000000   56.000000    6.000000   27.000000   \n",
       "max    1.010036e+09    2.000000   79.000000    7.000000   47.000000   \n",
       "\n",
       "              ARE         JOB         MAR         CHI        q2c1  ...  \\\n",
       "count  368.000000  368.000000  368.000000  368.000000  368.000000  ...   \n",
       "mean     4.165761    6.432065    1.611413    1.472826    0.573370  ...   \n",
       "std      1.722498    2.836268    0.488093    0.499941    0.495261  ...   \n",
       "min      1.000000    1.000000    1.000000    1.000000    0.000000  ...   \n",
       "25%      3.000000    4.000000    1.000000    1.000000    0.000000  ...   \n",
       "50%      4.000000    6.000000    2.000000    1.000000    1.000000  ...   \n",
       "75%      5.000000    9.000000    2.000000    2.000000    1.000000  ...   \n",
       "max      8.000000   11.000000    2.000000    2.000000    1.000000  ...   \n",
       "\n",
       "             q4s7        q4s8        q4s9       q4s10      q4s11       q4s12  \\\n",
       "count  368.000000  368.000000  368.000000  368.000000  368.00000  368.000000   \n",
       "mean     2.720109    2.554348    2.687500    2.711957    2.55163    2.750000   \n",
       "std      0.916353    0.908502    0.856236    0.827766    0.88126    0.830285   \n",
       "min      1.000000    1.000000    1.000000    1.000000    1.00000    1.000000   \n",
       "25%      2.000000    2.000000    2.000000    2.000000    2.00000    2.000000   \n",
       "50%      3.000000    2.000000    3.000000    3.000000    2.00000    3.000000   \n",
       "75%      3.000000    3.000000    3.000000    3.000000    3.00000    3.000000   \n",
       "max      5.000000    5.000000    5.000000    5.000000    5.00000    5.000000   \n",
       "\n",
       "           q4s13       q4s14       q4s15          q5  \n",
       "count  368.00000  368.000000  368.000000  368.000000  \n",
       "mean     2.76087    2.521739    2.676630    2.720109  \n",
       "std      0.84324    0.857450    0.883576    0.609129  \n",
       "min      1.00000    1.000000    1.000000    1.000000  \n",
       "25%      2.00000    2.000000    2.000000    3.000000  \n",
       "50%      3.00000    2.000000    3.000000    3.000000  \n",
       "75%      3.00000    3.000000    3.000000    3.000000  \n",
       "max      5.00000    5.000000    5.000000    3.000000  \n",
       "\n",
       "[8 rows x 30 columns]"
      ]
     },
     "execution_count": 15,
     "metadata": {},
     "output_type": "execute_result"
    }
   ],
   "source": [
    "#Statistical Analysis of the dataset.\n",
    "df.describe()"
   ]
  },
  {
   "cell_type": "markdown",
   "metadata": {},
   "source": [
    "## Data Analysis and Visualization"
   ]
  },
  {
   "cell_type": "markdown",
   "metadata": {},
   "source": [
    "### Grouping the Dataset by Gender"
   ]
  },
  {
   "cell_type": "code",
   "execution_count": 16,
   "metadata": {},
   "outputs": [
    {
     "data": {
      "text/html": [
       "<div>\n",
       "<style scoped>\n",
       "    .dataframe tbody tr th:only-of-type {\n",
       "        vertical-align: middle;\n",
       "    }\n",
       "\n",
       "    .dataframe tbody tr th {\n",
       "        vertical-align: top;\n",
       "    }\n",
       "\n",
       "    .dataframe thead th {\n",
       "        text-align: right;\n",
       "    }\n",
       "</style>\n",
       "<table border=\"1\" class=\"dataframe\">\n",
       "  <thead>\n",
       "    <tr style=\"text-align: right;\">\n",
       "      <th></th>\n",
       "      <th>MID</th>\n",
       "      <th>DAY</th>\n",
       "      <th>AGE</th>\n",
       "      <th>GEN</th>\n",
       "      <th>PRE</th>\n",
       "      <th>ARE</th>\n",
       "      <th>JOB</th>\n",
       "      <th>MAR</th>\n",
       "      <th>CHI</th>\n",
       "      <th>q1t1</th>\n",
       "      <th>...</th>\n",
       "      <th>q4s7</th>\n",
       "      <th>q4s8</th>\n",
       "      <th>q4s9</th>\n",
       "      <th>q4s10</th>\n",
       "      <th>q4s11</th>\n",
       "      <th>q4s12</th>\n",
       "      <th>q4s13</th>\n",
       "      <th>q4s14</th>\n",
       "      <th>q4s15</th>\n",
       "      <th>q5</th>\n",
       "    </tr>\n",
       "    <tr>\n",
       "      <th>SEX</th>\n",
       "      <th></th>\n",
       "      <th></th>\n",
       "      <th></th>\n",
       "      <th></th>\n",
       "      <th></th>\n",
       "      <th></th>\n",
       "      <th></th>\n",
       "      <th></th>\n",
       "      <th></th>\n",
       "      <th></th>\n",
       "      <th></th>\n",
       "      <th></th>\n",
       "      <th></th>\n",
       "      <th></th>\n",
       "      <th></th>\n",
       "      <th></th>\n",
       "      <th></th>\n",
       "      <th></th>\n",
       "      <th></th>\n",
       "      <th></th>\n",
       "      <th></th>\n",
       "    </tr>\n",
       "  </thead>\n",
       "  <tbody>\n",
       "    <tr>\n",
       "      <td>1.0</td>\n",
       "      <td>167</td>\n",
       "      <td>167</td>\n",
       "      <td>167</td>\n",
       "      <td>167</td>\n",
       "      <td>167</td>\n",
       "      <td>167</td>\n",
       "      <td>167</td>\n",
       "      <td>167</td>\n",
       "      <td>167</td>\n",
       "      <td>167</td>\n",
       "      <td>...</td>\n",
       "      <td>167</td>\n",
       "      <td>167</td>\n",
       "      <td>167</td>\n",
       "      <td>167</td>\n",
       "      <td>167</td>\n",
       "      <td>167</td>\n",
       "      <td>167</td>\n",
       "      <td>167</td>\n",
       "      <td>167</td>\n",
       "      <td>167</td>\n",
       "    </tr>\n",
       "    <tr>\n",
       "      <td>2.0</td>\n",
       "      <td>201</td>\n",
       "      <td>201</td>\n",
       "      <td>201</td>\n",
       "      <td>201</td>\n",
       "      <td>201</td>\n",
       "      <td>201</td>\n",
       "      <td>201</td>\n",
       "      <td>201</td>\n",
       "      <td>201</td>\n",
       "      <td>201</td>\n",
       "      <td>...</td>\n",
       "      <td>201</td>\n",
       "      <td>201</td>\n",
       "      <td>201</td>\n",
       "      <td>201</td>\n",
       "      <td>201</td>\n",
       "      <td>201</td>\n",
       "      <td>201</td>\n",
       "      <td>201</td>\n",
       "      <td>201</td>\n",
       "      <td>201</td>\n",
       "    </tr>\n",
       "  </tbody>\n",
       "</table>\n",
       "<p>2 rows × 31 columns</p>\n",
       "</div>"
      ],
      "text/plain": [
       "     MID  DAY  AGE  GEN  PRE  ARE  JOB  MAR  CHI  q1t1  ...  q4s7  q4s8  q4s9  \\\n",
       "SEX                                                     ...                     \n",
       "1.0  167  167  167  167  167  167  167  167  167   167  ...   167   167   167   \n",
       "2.0  201  201  201  201  201  201  201  201  201   201  ...   201   201   201   \n",
       "\n",
       "     q4s10  q4s11  q4s12  q4s13  q4s14  q4s15   q5  \n",
       "SEX                                                 \n",
       "1.0    167    167    167    167    167    167  167  \n",
       "2.0    201    201    201    201    201    201  201  \n",
       "\n",
       "[2 rows x 31 columns]"
      ]
     },
     "execution_count": 16,
     "metadata": {},
     "output_type": "execute_result"
    }
   ],
   "source": [
    "# 1 stands for Male,  2 stands for Female\n",
    "k= df['SEX'].unique()\n",
    "df_gen =df.groupby('SEX').count()\n",
    "df_gen\n"
   ]
  },
  {
   "cell_type": "code",
   "execution_count": 17,
   "metadata": {},
   "outputs": [
    {
     "name": "stderr",
     "output_type": "stream",
     "text": [
      "C:\\Users\\user2222\\Anaconda3\\lib\\site-packages\\pandas\\core\\generic.py:6786: SettingWithCopyWarning: \n",
      "A value is trying to be set on a copy of a slice from a DataFrame\n",
      "\n",
      "See the caveats in the documentation: http://pandas.pydata.org/pandas-docs/stable/user_guide/indexing.html#returning-a-view-versus-a-copy\n",
      "  self._update_inplace(new_data)\n"
     ]
    }
   ],
   "source": [
    "re1 = df[\"SEX\"].replace({1.0: \"Male\", 2.0: \"Female\"}, inplace=True)\n"
   ]
  },
  {
   "cell_type": "code",
   "execution_count": 18,
   "metadata": {},
   "outputs": [
    {
     "data": {
      "text/plain": [
       "Female    54.619565\n",
       "Male      45.380435\n",
       "Name: SEX, dtype: float64"
      ]
     },
     "execution_count": 18,
     "metadata": {},
     "output_type": "execute_result"
    }
   ],
   "source": [
    "#Dataset by Gender in percentage\n",
    "dataset_byGender = df['SEX'].value_counts(ascending=False)*100/368 #368 is for total data by sex\n",
    "dataset_byGender"
   ]
  },
  {
   "cell_type": "code",
   "execution_count": 19,
   "metadata": {},
   "outputs": [
    {
     "data": {
      "image/png": "[encoded data removed]",
      "text/plain": [
       "<Figure size 432x288 with 1 Axes>"
      ]
     },
     "metadata": {},
     "output_type": "display_data"
    }
   ],
   "source": [
    "gen = ['Female','male']\n",
    "dataset_byGender.plot(kind='pie',labels = gen, startangle =100, shadow=True,autopct ='%1.1f%%')\n",
    "plt.title(\"Dataset by Gender in percentage\")\n",
    "plt.show()\n"
   ]
  },
  {
   "cell_type": "markdown",
   "metadata": {},
   "source": [
    "#### 54.6%of the dataset are females and  45.4% are males"
   ]
  },
  {
   "cell_type": "markdown",
   "metadata": {},
   "source": [
    "### AGE BAND"
   ]
  },
  {
   "cell_type": "code",
   "execution_count": 20,
   "metadata": {},
   "outputs": [
    {
     "data": {
      "text/plain": [
       "40-49    93\n",
       "50-59    93\n",
       "30-39    68\n",
       "60>=     61\n",
       "20-29    51\n",
       "15-19     2\n",
       "Name: GEN, dtype: int64"
      ]
     },
     "execution_count": 20,
     "metadata": {},
     "output_type": "execute_result"
    }
   ],
   "source": [
    "re3  = df[\"GEN\"].replace({1.0:\"15<\", 2.0: \"15-19\",3.0: \"20-29\",4.0: \"30-39\",5.0: \"40-49\",6.0: \"50-59\",7.0: \"60>=\"}, inplace=True)\n",
    "AgeB= df[\"GEN\"].value_counts()\n",
    "AgeB"
   ]
  },
  {
   "cell_type": "code",
   "execution_count": 21,
   "metadata": {},
   "outputs": [
    {
     "data": {
      "image/png": "[encoded data removed]",
      "text/plain": [
       "<Figure size 432x288 with 1 Axes>"
      ]
     },
     "metadata": {
      "needs_background": "light"
     },
     "output_type": "display_data"
    }
   ],
   "source": [
    "#Age Band\n",
    "AgeB.plot(kind='bar')\n",
    "plt.title(\"Age Band frequence for sample population\")\n",
    "plt.show()"
   ]
  },
  {
   "cell_type": "markdown",
   "metadata": {},
   "source": [
    "#### Most participants fall into age range of 40-49 and 50-59"
   ]
  },
  {
   "cell_type": "markdown",
   "metadata": {},
   "source": [
    "### ENGAGEMENT -is the app entertaining ?"
   ]
  },
  {
   "cell_type": "code",
   "execution_count": 22,
   "metadata": {},
   "outputs": [],
   "source": [
    "f= df[\"q4s2\"].value_counts()\n"
   ]
  },
  {
   "cell_type": "code",
   "execution_count": 23,
   "metadata": {},
   "outputs": [
    {
     "data": {
      "image/png": "[encoded data removed]",
      "text/plain": [
       "<Figure size 432x288 with 1 Axes>"
      ]
     },
     "metadata": {
      "needs_background": "light"
     },
     "output_type": "display_data"
    }
   ],
   "source": [
    "x= [1.0,2.0,3.0,4.0,5.0]\n",
    "q4s2=[31,122,108,76,31]\n",
    "plt.plot(x,q4s2, linestyle= 'dashed', marker='D', label='entertaining')\n",
    "plt.title(\"Entertaining\")\n",
    "plt.ylabel('Frequency')\n",
    "plt.xlabel('Entertaining option')\n",
    "plt.legend()\n",
    "plt.show()"
   ]
  },
  {
   "cell_type": "markdown",
   "metadata": {},
   "source": [
    "#### The analysis shows that the app is entertaining."
   ]
  },
  {
   "cell_type": "markdown",
   "metadata": {},
   "source": [
    "### FUNCTIONALITY - Performance, Ease of use and Navigation."
   ]
  },
  {
   "cell_type": "code",
   "execution_count": 24,
   "metadata": {},
   "outputs": [
    {
     "data": {
      "text/plain": [
       "2.0    177\n",
       "3.0    108\n",
       "1.0     38\n",
       "4.0     31\n",
       "5.0     14\n",
       "Name: q4s5, dtype: int64"
      ]
     },
     "execution_count": 24,
     "metadata": {},
     "output_type": "execute_result"
    }
   ],
   "source": [
    "#Functionality\n",
    "b= df[\"q4s3\"].value_counts()\n",
    "c= df[\"q4s4\"].value_counts()\n",
    "d= df[\"q4s5\"].value_counts()\n",
    "d"
   ]
  },
  {
   "cell_type": "code",
   "execution_count": 25,
   "metadata": {},
   "outputs": [
    {
     "data": {
      "image/png": "[encoded data removed]",
      "text/plain": [
       "<Figure size 432x288 with 1 Axes>"
      ]
     },
     "metadata": {
      "needs_background": "light"
     },
     "output_type": "display_data"
    }
   ],
   "source": [
    "x= [1.0,2.0,3.0,4.0,5.0]# 1 stands for strongly agree, agree, not decided, disagree and strongly disagree.\n",
    "q4s3=[28,103,167,55,15]\n",
    "q4s4=[34,179,104,38,13]\n",
    "q4s5=[38,177,108,31,14]\n",
    "plt.plot(x,q4s3, linestyle= 'dashed', marker='D', label='Performance')\n",
    "plt.plot(x,q4s4, linestyle= 'dashed', marker='D',label='Ease of use' )\n",
    "plt.plot(x,q4s5, linestyle= 'dashed', marker='D',label='Navigation' )\n",
    "plt.title(\"Functionality\")\n",
    "plt.ylabel('Frequency')\n",
    "plt.xlabel('Performance, Ease of use, Navigation')\n",
    "plt.legend()\n",
    "plt.show()\n",
    "#q4s3 is for performance, q4s4 is for Ease of use and q4s5 is for navigation"
   ]
  },
  {
   "cell_type": "markdown",
   "metadata": {},
   "source": [
    "#### The application is easy to use and navigate"
   ]
  },
  {
   "cell_type": "markdown",
   "metadata": {},
   "source": [
    "### AESTHETICS  -  Layout, Graphics, Visual Appeal"
   ]
  },
  {
   "cell_type": "code",
   "execution_count": 26,
   "metadata": {},
   "outputs": [
    {
     "data": {
      "text/plain": [
       "2.0    154\n",
       "3.0    130\n",
       "4.0     38\n",
       "1.0     35\n",
       "5.0     11\n",
       "Name: q4s8, dtype: int64"
      ]
     },
     "execution_count": 26,
     "metadata": {},
     "output_type": "execute_result"
    }
   ],
   "source": [
    "#AESTHETICS\n",
    "g= df[\"q4s6\"].value_counts()\n",
    "h= df[\"q4s7\"].value_counts()\n",
    "i= df[\"q4s8\"].value_counts()\n",
    "i"
   ]
  },
  {
   "cell_type": "code",
   "execution_count": 27,
   "metadata": {},
   "outputs": [
    {
     "data": {
      "image/png": "[encoded data removed]",
      "text/plain": [
       "<Figure size 432x288 with 1 Axes>"
      ]
     },
     "metadata": {
      "needs_background": "light"
     },
     "output_type": "display_data"
    }
   ],
   "source": [
    "x= [1.0,2.0,3.0,4.0,5.0]# 1 stands for strongly agree, agree, not decided, disagree and strongly disagree.\n",
    "q4s6=[32,144,144,36,12]\n",
    "q4s7=[33,109,166,48,12]\n",
    "q4s8=[35,154,130,38,11]\n",
    "plt.plot(x,q4s6, linestyle= 'dashed', marker='D', label='Layout')\n",
    "plt.plot(x,q4s7, linestyle= 'dashed', marker='D',label='Graphics' )\n",
    "plt.plot(x,q4s8, linestyle= 'dashed', marker='D',label='Visual Appeal' )\n",
    "plt.title(\"AESTHETICS\")\n",
    "plt.ylabel('Frequency')\n",
    "plt.xlabel('Layout, Graphics, Visual Appeal')\n",
    "plt.legend()\n",
    "plt.show()"
   ]
  },
  {
   "cell_type": "markdown",
   "metadata": {},
   "source": [
    "#### The analysis shows that the app looks good and have a good layout."
   ]
  },
  {
   "cell_type": "markdown",
   "metadata": {},
   "source": [
    "### PRIVACY, ETHICS and INFORMATION - Visual, Quality, Credibility, Confidentiality and privacy, ethical"
   ]
  },
  {
   "cell_type": "code",
   "execution_count": 28,
   "metadata": {},
   "outputs": [
    {
     "data": {
      "text/plain": [
       "3.0    162\n",
       "2.0    133\n",
       "4.0     40\n",
       "1.0     22\n",
       "5.0     11\n",
       "Name: q4s9, dtype: int64"
      ]
     },
     "execution_count": 28,
     "metadata": {},
     "output_type": "execute_result"
    }
   ],
   "source": [
    "j= df[\"q4s9\"].value_counts()\n",
    "k= df[\"q4s10\"].value_counts()\n",
    "l= df[\"q4s11\"].value_counts()\n",
    "m= df[\"q4s12\"].value_counts()\n",
    "n= df[\"q4s13\"].value_counts()\n",
    "j"
   ]
  },
  {
   "cell_type": "code",
   "execution_count": 29,
   "metadata": {},
   "outputs": [
    {
     "data": {
      "image/png": "[encoded data removed]",
      "text/plain": [
       "<Figure size 432x288 with 1 Axes>"
      ]
     },
     "metadata": {
      "needs_background": "light"
     },
     "output_type": "display_data"
    }
   ],
   "source": [
    "q4s9=[22,133,162,40,11]\n",
    "q4s10=[22,118,182,36,10]\n",
    "q4s11=[32,155,138,32,11]\n",
    "q4s12=[21,108,194,32,13]\n",
    "q4s13=[26,94,203,32,13]\n",
    "plt.plot(x,q4s9, linestyle= 'dashed', marker='D', label='Visual ')\n",
    "plt.plot(x,q4s10, linestyle= 'dashed', marker='D',label='Quality' )\n",
    "plt.plot(x,q4s11, linestyle= 'dashed', marker='D',label='Credibility' )\n",
    "plt.plot(x,q4s12, linestyle= 'dashed', marker='D',label='Confidentiality and Privacy' )\n",
    "plt.plot(x,q4s13, linestyle= 'dashed', marker='D',label='Ethical' )\n",
    "plt.title(\"Privacy, Ethics and Information\")\n",
    "plt.legend()\n",
    "plt.show()"
   ]
  },
  {
   "cell_type": "code",
   "execution_count": null,
   "metadata": {},
   "outputs": [],
   "source": []
  },
  {
   "cell_type": "code",
   "execution_count": 30,
   "metadata": {},
   "outputs": [
    {
     "data": {
      "text/plain": [
       "2.0    158\n",
       "3.0    143\n",
       "1.0     32\n",
       "4.0     24\n",
       "5.0     11\n",
       "Name: q4s14, dtype: int64"
      ]
     },
     "execution_count": 30,
     "metadata": {},
     "output_type": "execute_result"
    }
   ],
   "source": [
    "o= df[\"q4s14\"].value_counts()\n",
    "p= df[\"q4s15\"].value_counts()\n",
    "o"
   ]
  },
  {
   "cell_type": "code",
   "execution_count": 31,
   "metadata": {},
   "outputs": [
    {
     "data": {
      "image/png": "[encoded data removed]",
      "text/plain": [
       "<Figure size 432x288 with 1 Axes>"
      ]
     },
     "metadata": {
      "needs_background": "light"
     },
     "output_type": "display_data"
    }
   ],
   "source": [
    "\n",
    "q4s14=[32,158,143,24,11]\n",
    "q4s15=[25,133,160,36,14]\n",
    "plt.plot(x,q4s14, linestyle= 'dashed', marker='D', label='Star Rating ')\n",
    "plt.plot(x,q4s15, linestyle= 'dashed', marker='D',label='Recommendation' )\n",
    "plt.title(\"Overall Rating\")\n",
    "plt.legend()\n",
    "plt.show()"
   ]
  },
  {
   "cell_type": "markdown",
   "metadata": {},
   "source": [
    "#### This analysis shows that the  application is well rated."
   ]
  },
  {
   "cell_type": "code",
   "execution_count": 32,
   "metadata": {},
   "outputs": [
    {
     "data": {
      "text/plain": [
       "3.0    296\n",
       "2.0     41\n",
       "1.0     31\n",
       "Name: q5, dtype: int64"
      ]
     },
     "execution_count": 32,
     "metadata": {},
     "output_type": "execute_result"
    }
   ],
   "source": [
    "#Would you pay for this app?\n",
    "q= df[\"q5\"].value_counts()\n",
    "q"
   ]
  },
  {
   "cell_type": "code",
   "execution_count": 33,
   "metadata": {},
   "outputs": [
    {
     "data": {
      "image/png": "[encoded data removed]",
      "text/plain": [
       "<Figure size 432x288 with 1 Axes>"
      ]
     },
     "metadata": {
      "needs_background": "light"
     },
     "output_type": "display_data"
    }
   ],
   "source": [
    "q.plot(kind='bar')\n",
    "plt.title(\"Would you pay for this application?\")\n",
    "plt.show()\n",
    "#1-This app is not free,   2-This app is free. If it is not free, I use this app,   3-This app is free. If it is not free, I do not use this app."
   ]
  },
  {
   "cell_type": "markdown",
   "metadata": {},
   "source": [
    "### Prefecture"
   ]
  },
  {
   "cell_type": "code",
   "execution_count": 34,
   "metadata": {},
   "outputs": [
    {
     "data": {
      "text/plain": [
       "Tokyo        48\n",
       "Osaka        36\n",
       "Kanagawa     36\n",
       "Aichi        32\n",
       "Saitama      19\n",
       "Hyogo        18\n",
       "Hokkaido     15\n",
       "Fukuoka      15\n",
       "Chiba        14\n",
       "Gunma         9\n",
       "Miyagi        8\n",
       "Hiroshima     8\n",
       "Niigata       8\n",
       "Okayama       8\n",
       "Kyoto         8\n",
       "Yamaguchi     8\n",
       "Ibaragi       7\n",
       "Shiga         6\n",
       "Oita          5\n",
       "Shizuoka      5\n",
       "Fukushima     4\n",
       "Mie           4\n",
       "Kumamoto      4\n",
       "Tochigi       4\n",
       "Ehime         3\n",
       "Gifu          3\n",
       "Nara          3\n",
       "Okinawa       3\n",
       "Shimane       2\n",
       "Tokushima     2\n",
       "Yamagata      2\n",
       "Akita         2\n",
       "Kagoshima     2\n",
       "Tottori       2\n",
       "Yamanashi     2\n",
       "Toyama        2\n",
       "Nagasaki      2\n",
       "Wakayama      2\n",
       "Fukui         1\n",
       "Kouchi        1\n",
       "Saga          1\n",
       "Iwate         1\n",
       "Nagano        1\n",
       "Aomori        1\n",
       "Ishikawa      1\n",
       "Name: PRE, dtype: int64"
      ]
     },
     "execution_count": 34,
     "metadata": {},
     "output_type": "execute_result"
    }
   ],
   "source": [
    "re2  = df[\"PRE\"].replace({1.0: \"Hokkaido\", 2.0: \"Aomori\",3.0: \"Iwate\",4.0: \"Miyagi\",5.0: \"Akita\",6.0: \"Yamagata\",7.0: \"Fukushima\",8.0: \"Ibaragi\",9.0: \"Tochigi\",10.0: \"Gunma\", 11.0:'Saitama', 12.0:'Chiba', 13.0:'Tokyo', 14.0:'Kanagawa', 15.0:'Niigata', 16.0:'Toyama', 17.0:'Ishikawa', 18.0:'Fukui', 19.0:'Yamanashi', 20.0:'Nagano', 21.0:'Gifu', 22.0:'Shizuoka', 23.0:'Aichi', 24.0:'Mie', 25.0:'Shiga',26.0:'Kyoto',27.0:'Osaka',28.0:'Hyogo',29.0:'Nara',30.0:'Wakayama',31.0:'Tottori',32.0:'Shimane',33.0:'Okayama',34.0:'Hiroshima',35.0:'Yamaguchi',36.0:'Tokushima',37.0:'Kagawa',38.0:'Ehime',39.0:'Kouchi',40.0:'Fukuoka',41.0:'Saga',42.0:'Nagasaki',43.0:'Kumamoto',44.0:'Oita',45.0:'Miyazaki',46.0:'Kagoshima',47.0:'Okinawa' }, inplace=True)\n",
    "series2 = df[\"PRE\"].value_counts()\n",
    "series2"
   ]
  },
  {
   "cell_type": "code",
   "execution_count": 35,
   "metadata": {},
   "outputs": [
    {
     "data": {
      "image/png": "[encoded data removed]",
      "text/plain": [
       "<Figure size 432x288 with 1 Axes>"
      ]
     },
     "metadata": {
      "needs_background": "light"
     },
     "output_type": "display_data"
    }
   ],
   "source": [
    "k = series2.head(10)\n",
    "k.plot(kind='bar',color='orange', label='Prefecture')\n",
    "plt.title(\"Top ten Prefecture with highest frequency number\")\n",
    "plt.xlabel(\"Prefecture\")\n",
    "plt.ylabel(\"FREQUENCY\")\n",
    "plt.legend()\n",
    "plt.show()"
   ]
  },
  {
   "cell_type": "markdown",
   "metadata": {},
   "source": [
    "#### Most participants from the sample population are from Tokyo"
   ]
  },
  {
   "cell_type": "markdown",
   "metadata": {},
   "source": [
    "### Dataset by Region"
   ]
  },
  {
   "cell_type": "code",
   "execution_count": 36,
   "metadata": {},
   "outputs": [
    {
     "data": {
      "text/plain": [
       "Kanto       137\n",
       "Kinki        77\n",
       "Chubu        55\n",
       "Kyushu       32\n",
       "Chugoku      28\n",
       "Tohoku       18\n",
       "Hokkaido     15\n",
       "Shikoku       6\n",
       "Name: ARE, dtype: int64"
      ]
     },
     "execution_count": 36,
     "metadata": {},
     "output_type": "execute_result"
    }
   ],
   "source": [
    "re3  = df[\"ARE\"].replace({1.0: \"Hokkaido\", 2.0: \"Tohoku\",3.0: \"Kanto\",4.0: \"Chubu\",5.0: \"Kinki\",6.0: \"Chugoku\",7.0: \"Shikoku\",8.0: \"Kyushu\"}, inplace=True)\n",
    "series3 = df[\"ARE\"].value_counts()\n",
    "series3\n"
   ]
  },
  {
   "cell_type": "code",
   "execution_count": 37,
   "metadata": {},
   "outputs": [
    {
     "data": {
      "image/png": "[encoded data removed]",
      "text/plain": [
       "<Figure size 432x288 with 1 Axes>"
      ]
     },
     "metadata": {
      "needs_background": "light"
     },
     "output_type": "display_data"
    }
   ],
   "source": [
    "series3.plot(kind='bar',color='black')\n",
    "plt.title(\"Number of Participants by Region\")\n",
    "plt.xlabel(\"REGION\")\n",
    "plt.ylabel(\"FREQUENCY\")\n",
    "plt.show()"
   ]
  },
  {
   "cell_type": "markdown",
   "metadata": {},
   "source": [
    "#### The highest number of participants is from Kanto Region"
   ]
  },
  {
   "cell_type": "markdown",
   "metadata": {},
   "source": [
    "### Exploring Occupation"
   ]
  },
  {
   "cell_type": "code",
   "execution_count": 38,
   "metadata": {},
   "outputs": [
    {
     "data": {
      "text/plain": [
       "Part Time                      64\n",
       "Employee(Office based work)    61\n",
       "Employee(Others)               57\n",
       "Housewife                      57\n",
       "Employee(Manual work)          40\n",
       "Others                         36\n",
       "Self-employed                  18\n",
       "student                        14\n",
       "Civil-Servant                   9\n",
       "Exective                        6\n",
       "Freelancer                      6\n",
       "Name: JOB, dtype: int64"
      ]
     },
     "execution_count": 38,
     "metadata": {},
     "output_type": "execute_result"
    }
   ],
   "source": [
    "#df['JOB'].astype(str)\n",
    "re4  = df[\"JOB\"].replace({1.0: \"Civil-Servant\", 2.0: \"Exective\",3.0: \"Employee(Office based work)\",4.0: \"Employee(Manual work)\",5.0: \"Employee(Others)\",6.0: \"Self-employed\",7.0: \"Freelancer\",8.0: \"Housewife\",9.0: \"Part Time\",10.0: \"student\", 11.0:'Others'}, inplace=True)\n",
    "series4 = df[\"JOB\"].value_counts()\n",
    "series4\n"
   ]
  },
  {
   "cell_type": "code",
   "execution_count": 39,
   "metadata": {},
   "outputs": [
    {
     "data": {
      "image/png": "[encoded data removed]",
      "text/plain": [
       "<Figure size 432x288 with 1 Axes>"
      ]
     },
     "metadata": {
      "needs_background": "light"
     },
     "output_type": "display_data"
    }
   ],
   "source": [
    "series4.plot(kind='bar', color='purple')\n",
    "plt.title(\"Number of Participants by Occupation\")\n",
    "plt.xlabel(\"Occupation\")\n",
    "plt.ylabel(\"FREQUENCY\")\n",
    "plt.grid(color='#95a5a6', linestyle='--', linewidth=2, axis='y', alpha=0.7)\n",
    "plt.show()"
   ]
  },
  {
   "cell_type": "markdown",
   "metadata": {},
   "source": [
    "### Marital Status"
   ]
  },
  {
   "cell_type": "code",
   "execution_count": 40,
   "metadata": {},
   "outputs": [],
   "source": [
    "re5 = df[\"MAR\"].replace({1.0: \"Single\", 2.0: \"Married\"}, inplace=True)"
   ]
  },
  {
   "cell_type": "code",
   "execution_count": 41,
   "metadata": {},
   "outputs": [
    {
     "data": {
      "text/plain": [
       "Married    61.141304\n",
       "Single     38.858696\n",
       "Name: MAR, dtype: float64"
      ]
     },
     "execution_count": 41,
     "metadata": {},
     "output_type": "execute_result"
    }
   ],
   "source": [
    "#Dataset by Marital Status in percentage\n",
    "dataset_byMaritalStatus = df['MAR'].value_counts(ascending=False)*100/368 \n",
    "dataset_byMaritalStatus"
   ]
  },
  {
   "cell_type": "code",
   "execution_count": 42,
   "metadata": {},
   "outputs": [
    {
     "data": {
      "image/png": "[encoded data removed]",
      "text/plain": [
       "<Figure size 432x288 with 1 Axes>"
      ]
     },
     "metadata": {},
     "output_type": "display_data"
    }
   ],
   "source": [
    "mars = ['Married','Single']\n",
    "myexplode = [0.2, 0]\n",
    "\n",
    "#colors = ['#ff9999','#66b3ff','#99ff99','#ffcc99']\n",
    "colors = ['#ff9999','#66b3ff']\n",
    "dataset_byMaritalStatus.plot(kind='pie',labels = mars, startangle =100, shadow=True,autopct ='%1.1f%%', explode = myexplode, colors=colors)\n",
    "plt.title(\"Dataset by Marital Status in percentage\")\n",
    "plt.show()"
   ]
  },
  {
   "cell_type": "markdown",
   "metadata": {},
   "source": [
    "#### The analysis shows that 61.1% of sample population are married and 38.9% are single. "
   ]
  },
  {
   "cell_type": "markdown",
   "metadata": {},
   "source": [
    "### Total number of participants with kids and no kid"
   ]
  },
  {
   "cell_type": "code",
   "execution_count": 43,
   "metadata": {},
   "outputs": [
    {
     "data": {
      "text/plain": [
       "Kids       52.717391\n",
       "No Kids    47.282609\n",
       "Name: CHI, dtype: float64"
      ]
     },
     "execution_count": 43,
     "metadata": {},
     "output_type": "execute_result"
    }
   ],
   "source": [
    "re6 = df[\"CHI\"].replace({1.0: \"Kids\", 2.0: \"No Kids\"}, inplace=True)\n",
    "dataset_byKids = df['CHI'].value_counts(ascending=False)*100/368\n",
    "dataset_byKids"
   ]
  },
  {
   "cell_type": "code",
   "execution_count": 44,
   "metadata": {},
   "outputs": [
    {
     "data": {
      "image/png": "[encoded data removed]",
      "text/plain": [
       "<Figure size 432x288 with 1 Axes>"
      ]
     },
     "metadata": {},
     "output_type": "display_data"
    }
   ],
   "source": [
    "kid = ['Kids','No Kids']\n",
    "myexplode = [0.2, 0]\n",
    "\n",
    "#colors = ['#ff9999','#66b3ff','#99ff99','#ffcc99']\n",
    "colors = ['#99ff99','#ffcc99']\n",
    "dataset_byKids.plot(kind='pie',labels = kid, startangle =100, shadow=True,autopct ='%1.1f%%', explode = myexplode, colors=colors)\n",
    "plt.title(\"Participants with kids and no kids\")\n",
    "plt.show()"
   ]
  },
  {
   "cell_type": "markdown",
   "metadata": {},
   "source": [
    "### Mobile OS version"
   ]
  },
  {
   "cell_type": "code",
   "execution_count": 45,
   "metadata": {},
   "outputs": [],
   "source": [
    "#df.plot.bar()"
   ]
  },
  {
   "cell_type": "code",
   "execution_count": 46,
   "metadata": {},
   "outputs": [],
   "source": [
    "#N = 5\n",
    "#ind = np.arange(N)"
   ]
  },
  {
   "cell_type": "code",
   "execution_count": 47,
   "metadata": {},
   "outputs": [],
   "source": [
    "#fig, ax = plt.subplots()\n",
    "\n",
    "#p1 = ax.bar(ind,label='Men',height)\n",
    "#p2 = ax.bar(ind,label='Women',height)\n",
    "#ax.legend()"
   ]
  },
  {
   "cell_type": "code",
   "execution_count": 48,
   "metadata": {},
   "outputs": [],
   "source": [
    "#Overall Star rating of the Application"
   ]
  },
  {
   "cell_type": "code",
   "execution_count": null,
   "metadata": {},
   "outputs": [],
   "source": []
  },
  {
   "cell_type": "code",
   "execution_count": 49,
   "metadata": {},
   "outputs": [
    {
     "data": {
      "image/png": "[encoded data removed]",
      "text/plain": [
       "<Figure size 432x288 with 1 Axes>"
      ]
     },
     "metadata": {
      "needs_background": "light"
     },
     "output_type": "display_data"
    }
   ],
   "source": [
    "#AESTHETICS-Layout(Is the app icon well alligned?)\n",
    "layout = df[\"q4s6\"].value_counts()\n",
    "layout.plot(kind='bar')\n",
    "plt.show()"
   ]
  },
  {
   "cell_type": "code",
   "execution_count": null,
   "metadata": {},
   "outputs": [],
   "source": []
  },
  {
   "cell_type": "code",
   "execution_count": 50,
   "metadata": {},
   "outputs": [
    {
     "data": {
      "image/png": "[encoded data removed]",
      "text/plain": [
       "<Figure size 432x288 with 1 Axes>"
      ]
     },
     "metadata": {
      "needs_background": "light"
     },
     "output_type": "display_data"
    }
   ],
   "source": [
    "#df.plot.bar()\n",
    "plt.bar(df['q2c1'], df['q2c2'])\n",
    "plt.show()"
   ]
  },
  {
   "cell_type": "code",
   "execution_count": null,
   "metadata": {},
   "outputs": [],
   "source": []
  },
  {
   "cell_type": "code",
   "execution_count": null,
   "metadata": {},
   "outputs": [],
   "source": []
  }
 ],
 "metadata": {
  "kernelspec": {
   "display_name": "Python 3",
   "language": "python",
   "name": "python3"
  },
  "language_info": {
   "codemirror_mode": {
    "name": "ipython",
    "version": 3
   },
   "file_extension": ".py",
   "mimetype": "text/x-python",
   "name": "python",
   "nbconvert_exporter": "python",
   "pygments_lexer": "ipython3",
   "version": "3.7.4"
  }
 },
 "nbformat": 4,
 "nbformat_minor": 2
}
